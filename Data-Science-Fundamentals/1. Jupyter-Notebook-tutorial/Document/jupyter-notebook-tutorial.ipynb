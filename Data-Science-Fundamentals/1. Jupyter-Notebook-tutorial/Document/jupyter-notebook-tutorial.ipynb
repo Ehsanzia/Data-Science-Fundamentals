{
 "cells": [
  {
   "attachments": {
    "Jupyter_logo.png": {
     "image/png": "[encoded data removed]"
    }
   },
   "cell_type": "markdown",
   "metadata": {},
   "source": [
    "# <div style=\"text-align: center\"> Jupyter Notebook Tutorial </div>\n",
    "![Jupyter_logo.png](attachment:Jupyter_logo.png)"
   ]
  },
  {
   "cell_type": "markdown",
   "metadata": {},
   "source": [
    "<h1>Table of contents</h1>\n",
    "\n",
    "<div class=\"alert alert-block alert-info\" style=\"margin-top: 20px\">\n",
    "    <ol>\n",
    "        <li><a href=\"#Cell operation\">What is Anaconda?</a></li>\n",
    "        <li><a href=\"#Cell operation\">How to install Anaconda?</a></li>\n",
    "        <li><a href=\"#Cell operation\">What is jupyter notebook?</a></li>\n",
    "                <li><a href=\"#Cell operation\">Cell operation</a></li>\n",
    "        <li><a href=\"#Heading\">Heading</a></li>\n",
    "        <li><a href=\"#Bold\">Bold</a></li>\n",
    "        <li><a href=\"#Italic\">Italic</a></li>\n",
    "        <li><a href=\"#Bullet\">Bullet</a></li>\n",
    "        <li><a href=\"#Numbered Lists\">Numbered Lists</a></li>\n",
    "        <li><a href=\"#Mathematical symbols\">Mathematical symbols</a></li>\n",
    "        <li><a href=\"#Line breaks\">Line breaks</a></li>\n",
    "        <li><a href=\"#Image\">Image</a></li>\n",
    "        <li><a href=\"#Image\">Text align</a></li>\n",
    "        <li><a href=\"#Color\">Color</a></li>\n",
    "        <li><a href=\"#Link\">Link</a></li>\n",
    "    </ol>\n",
    "</div>\n",
    "<br>\n",
    "<hr>\n"
   ]
  },
  {
   "cell_type": "markdown",
   "metadata": {},
   "source": [
    "# 1. What is Anaconda?\n",
    "\n",
    "**Anaconda is a bounch of python packages and a package manager called conda(similar to pip). Some of the popular anaconda packages are numpy, scipy, jupyter, scikit-learn, and etc.**"
   ]
  },
  {
   "cell_type": "markdown",
   "metadata": {},
   "source": [
    "# 2. How to install Anaconda?\n",
    "\n",
    "1. Go to Google and type \"download anaconda\"\n",
    "2. Choose the first link\n",
    "3. Click on appropriate OS (Windows or Mac)\n",
    "4. Anaconda is pretty big, so it takes some time to download it\n",
    "5. Click on file.exe and installation is straight forward by clicking on next, next, ... ."
   ]
  },
  {
   "cell_type": "markdown",
   "metadata": {},
   "source": [
    "# 3. What is jupyter notebook?\n",
    "\n",
    "**Jupyter notebook is running inside the browser. Jupyter noteboo is a web application that allows you to run live code, embed visualization, and explanatory text all in one place.**"
   ]
  },
  {
   "cell_type": "markdown",
   "metadata": {},
   "source": [
    "<hr/>\n",
    "<div class=\"alert alert-success alertsuccess\" style=\"margin-top: 30px\">\n",
    "<b>\n",
    "    [Tip]: The cell should be set to Markdown for the following operations.\n",
    "        \n",
    "</b>\n",
    "</div>\n",
    "<hr/>"
   ]
  },
  {
   "cell_type": "markdown",
   "metadata": {},
   "source": [
    "# 4. Cell operation\n",
    "\n",
    "1. To execute the Python code in the code cell, click on the cell to select it and press <kbd>Shift</kbd> + <kbd>Enter</kbd>.\n",
    "2. To add cell above, click on the cell to select it and press <kbd>A</kbd>.\n",
    "3. To add cell below, click on the cell to select it and press <kbd>B</kbd>.\n",
    "4. To delet a cell, click on the cell to select it and press <kbd>X</kbd>."
   ]
  },
  {
   "cell_type": "markdown",
   "metadata": {},
   "source": [
    "# 5. Headings\n",
    "Use #s followed by a space for notebook titles and section headings:\n",
    "\n",
    "# Title\n",
    "## Major headings\n",
    "### Subheadings"
   ]
  },
  {
   "cell_type": "markdown",
   "metadata": {},
   "source": [
    "# 6. Bold\n",
    "1. <b> bold text <b> \n",
    "2. **bold text**\n",
    "3. __bold text__"
   ]
  },
  {
   "cell_type": "markdown",
   "metadata": {},
   "source": [
    "# 7. Italic\n",
    "1. *italic text*\n",
    "2. _italic text_"
   ]
  },
  {
   "cell_type": "markdown",
   "metadata": {},
   "source": [
    "# 8. Bullets\n",
    "\n",
    "- Bullet text\n",
    "    - Sub bulet text\n"
   ]
  },
  {
   "cell_type": "markdown",
   "metadata": {},
   "source": [
    "# 9. Numbered lists\n",
    "1. Line number one\n",
    "2. Line number two\n",
    "    1. Sub line number one\n",
    "    2. Sub line number two"
   ]
  },
  {
   "cell_type": "markdown",
   "metadata": {},
   "source": [
    "# 10. Mathemetical symbols\n",
    "Use this code: $ mathematical symbols $\n",
    "$+$ $-$ $*$ $\\alpha$ $\\beta$ $\\gamma$ $\\sum$"
   ]
  },
  {
   "cell_type": "markdown",
   "metadata": {},
   "source": [
    "# 11. Line breaks\n",
    "Use code: <br>\n",
    "\n",
    "line break <br> next line"
   ]
  },
  {
   "cell_type": "markdown",
   "metadata": {},
   "source": [
    "# 12. Text Align\n",
    " \n",
    "Use this code\n",
    "\n",
    "<div style=\"text-align: left\"> your-text-here </div>\n",
    "\n",
    "<div style=\"text-align: right\"> your-text-here </div>\n",
    "\n",
    "<div style=\"text-align: center\"> your-text-here </div>\n",
    "\n",
    "<div style=\"text-align: justify\"> your-text-here </div>\n",
    "\n"
   ]
  },
  {
   "attachments": {
    "Python-language.png": {
     "image/png": "[encoded data removed]"
    }
   },
   "cell_type": "markdown",
   "metadata": {},
   "source": [
    "# 13. Image\n",
    "You should make the cell **Markdown** and then drag and drop your image.\n",
    "![Python-language.png](attachment:Python-language.png)"
   ]
  },
  {
   "cell_type": "markdown",
   "metadata": {},
   "source": [
    "# 14.Color\n",
    "\n",
    "\n",
    "<font color=red>Font color in red</font>\n",
    "\n",
    "<font color=blue>Font color in blue</font>\n",
    "\n",
    "<font color=green>Font color in green</font>\n",
    "\n"
   ]
  },
  {
   "cell_type": "markdown",
   "metadata": {},
   "source": [
    "# 15. Link\n",
    "\n",
    "Use this code: [Link text](http://url)\n",
    "\n",
    "[Click here to python](https://www.python.org/)\n",
    "\n",
    "[Click here to Reference\n",
    "](https://www.youtube.com/watch?v=Upcs6OCgnow&t=564s)\n"
   ]
  },
  {
   "cell_type": "markdown",
   "metadata": {},
   "source": [
    "|  Date |  Author |   |   |\n",
    "|---|---|---|---|\n",
    "| 2021-07-21    |   <font color=blue>**Ehsan Zia**</font>  |  |  |\n",
    "\n"
   ]
  }
 ],
 "metadata": {
  "kernelspec": {
   "display_name": "Python 3",
   "language": "python",
   "name": "python3"
  },
  "language_info": {
   "codemirror_mode": {
    "name": "ipython",
    "version": 3
   },
   "file_extension": ".py",
   "mimetype": "text/x-python",
   "name": "python",
   "nbconvert_exporter": "python",
   "pygments_lexer": "ipython3",
   "version": "3.8.5"
  }
 },
 "nbformat": 4,
 "nbformat_minor": 4
}
